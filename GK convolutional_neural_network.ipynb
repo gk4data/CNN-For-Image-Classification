{
  "cells": [
    {
      "cell_type": "markdown",
      "metadata": {
        "id": "3DR-eO17geWu"
      },
      "source": [
        "# Convolutional Neural Network"
      ]
    },
    {
      "cell_type": "markdown",
      "metadata": {
        "id": "EMefrVPCg-60"
      },
      "source": [
        "### Importing the libraries"
      ]
    },
    {
      "cell_type": "code",
      "execution_count": null,
      "metadata": {
        "id": "sCV30xyVhFbE"
      },
      "outputs": [],
      "source": [
        "import tensorflow as tf\n",
        "from keras.preprocessing.image import ImageDataGenerator"
      ]
    },
    {
      "cell_type": "code",
      "source": [
        "from google.colab import drive\n",
        "drive.mount('/content/drive')"
      ],
      "metadata": {
        "id": "O6KktaiXcR76"
      },
      "execution_count": null,
      "outputs": []
    },
    {
      "cell_type": "code",
      "execution_count": null,
      "metadata": {
        "colab": {
          "base_uri": "https://localhost:8080/",
          "height": 35
        },
        "id": "FIleuCAjoFD8",
        "outputId": "322e9e2c-b79b-46ff-826b-417540d24229"
      },
      "outputs": [
        {
          "output_type": "execute_result",
          "data": {
            "text/plain": [
              "'2.8.0'"
            ],
            "application/vnd.google.colaboratory.intrinsic+json": {
              "type": "string"
            }
          },
          "metadata": {},
          "execution_count": 2
        }
      ],
      "source": [
        "tf.__version__"
      ]
    },
    {
      "cell_type": "markdown",
      "metadata": {
        "id": "oxQxCBWyoGPE"
      },
      "source": [
        "## Part 1 - Data Preprocessing"
      ]
    },
    {
      "cell_type": "markdown",
      "metadata": {
        "id": "MvE-heJNo3GG"
      },
      "source": [
        "### Preprocessing the Training set"
      ]
    },
    {
      "cell_type": "code",
      "execution_count": null,
      "metadata": {
        "colab": {
          "base_uri": "https://localhost:8080/"
        },
        "id": "0koUcJMJpEBD",
        "outputId": "9ee397e1-7e06-4fa7-c4f6-3bedfdf11c5d"
      },
      "outputs": [
        {
          "output_type": "stream",
          "name": "stdout",
          "text": [
            "Found 8000 images belonging to 2 classes.\n"
          ]
        }
      ],
      "source": [
        "train_datagen = ImageDataGenerator(rescale = 1./255,\n",
        "                                   shear_range = 0.2,\n",
        "                                   zoom_range = 0.2,\n",
        "                                   horizontal_flip = True)\n",
        "training_set = train_datagen.flow_from_directory('/content/drive/MyDrive/Images/training_set',\n",
        "                                                 target_size = (64, 64),\n",
        "                                                 batch_size = 35,\n",
        "                                                 class_mode = 'binary')"
      ]
    },
    {
      "cell_type": "markdown",
      "metadata": {
        "id": "mrCMmGw9pHys"
      },
      "source": [
        "### Preprocessing the Test set"
      ]
    },
    {
      "cell_type": "code",
      "execution_count": null,
      "metadata": {
        "id": "SH4WzfOhpKc3",
        "outputId": "5ce6e389-dd94-46fb-d13e-8ee62e01fb6f",
        "colab": {
          "base_uri": "https://localhost:8080/"
        }
      },
      "outputs": [
        {
          "output_type": "stream",
          "name": "stdout",
          "text": [
            "Found 2000 images belonging to 2 classes.\n"
          ]
        }
      ],
      "source": [
        "test_datagen = ImageDataGenerator(rescale = 1./255)\n",
        "test_set = test_datagen.flow_from_directory('/content/drive/MyDrive/Images/test_set',\n",
        "                                            target_size = (64, 64),\n",
        "                                            batch_size = 35,\n",
        "                                            class_mode = 'binary')"
      ]
    },
    {
      "cell_type": "code",
      "source": [
        ""
      ],
      "metadata": {
        "colab": {
          "base_uri": "https://localhost:8080/"
        },
        "id": "5TAxkADgcI27",
        "outputId": "00fe9085-6a09-48ba-d859-7d1f9c6a1425"
      },
      "execution_count": null,
      "outputs": [
        {
          "output_type": "stream",
          "name": "stdout",
          "text": [
            "Mounted at /content/drive\n"
          ]
        }
      ]
    },
    {
      "cell_type": "markdown",
      "metadata": {
        "id": "af8O4l90gk7B"
      },
      "source": [
        "## Part 2 - Building the CNN"
      ]
    },
    {
      "cell_type": "markdown",
      "metadata": {
        "id": "ces1gXY2lmoX"
      },
      "source": [
        "### Initialising the CNN"
      ]
    },
    {
      "cell_type": "code",
      "execution_count": null,
      "metadata": {
        "id": "SAUt4UMPlhLS"
      },
      "outputs": [],
      "source": [
        "cnn = tf.keras.models.Sequential()"
      ]
    },
    {
      "cell_type": "markdown",
      "metadata": {
        "id": "u5YJj_XMl5LF"
      },
      "source": [
        "### Step 1 - Convolution"
      ]
    },
    {
      "cell_type": "code",
      "execution_count": null,
      "metadata": {
        "id": "XPzPrMckl-hV"
      },
      "outputs": [],
      "source": [
        "cnn.add(tf.keras.layers.Conv2D(filters=32, kernel_size=3, activation='relu', input_shape=[64, 64, 3]))"
      ]
    },
    {
      "cell_type": "markdown",
      "metadata": {
        "id": "tf87FpvxmNOJ"
      },
      "source": [
        "### Step 2 - Pooling"
      ]
    },
    {
      "cell_type": "code",
      "execution_count": null,
      "metadata": {
        "id": "ncpqPl69mOac"
      },
      "outputs": [],
      "source": [
        "cnn.add(tf.keras.layers.MaxPool2D(pool_size=2, strides=2))"
      ]
    },
    {
      "cell_type": "markdown",
      "metadata": {
        "id": "xaTOgD8rm4mU"
      },
      "source": [
        "### Adding a second convolutional layer"
      ]
    },
    {
      "cell_type": "code",
      "execution_count": null,
      "metadata": {
        "id": "i_-FZjn_m8gk"
      },
      "outputs": [],
      "source": [
        "cnn.add(tf.keras.layers.Conv2D(filters=32, kernel_size=3, activation='relu'))\n",
        "cnn.add(tf.keras.layers.MaxPool2D(pool_size=2, strides=2))"
      ]
    },
    {
      "cell_type": "markdown",
      "metadata": {
        "id": "tmiEuvTunKfk"
      },
      "source": [
        "### Step 3 - Flattening"
      ]
    },
    {
      "cell_type": "code",
      "execution_count": null,
      "metadata": {
        "id": "6AZeOGCvnNZn"
      },
      "outputs": [],
      "source": [
        "cnn.add(tf.keras.layers.Flatten())"
      ]
    },
    {
      "cell_type": "markdown",
      "metadata": {
        "id": "dAoSECOm203v"
      },
      "source": [
        "### Step 4 - Full Connection"
      ]
    },
    {
      "cell_type": "code",
      "execution_count": null,
      "metadata": {
        "id": "8GtmUlLd26Nq"
      },
      "outputs": [],
      "source": [
        "cnn.add(tf.keras.layers.Dense(units=128, activation='relu'))"
      ]
    },
    {
      "cell_type": "markdown",
      "metadata": {
        "id": "yTldFvbX28Na"
      },
      "source": [
        "### Step 5 - Output Layer"
      ]
    },
    {
      "cell_type": "code",
      "execution_count": null,
      "metadata": {
        "id": "1p_Zj1Mc3Ko_"
      },
      "outputs": [],
      "source": [
        "cnn.add(tf.keras.layers.Dense(units=1, activation='sigmoid'))"
      ]
    },
    {
      "cell_type": "markdown",
      "metadata": {
        "id": "D6XkI90snSDl"
      },
      "source": [
        "## Part 3 - Training the CNN"
      ]
    },
    {
      "cell_type": "markdown",
      "metadata": {
        "id": "vfrFQACEnc6i"
      },
      "source": [
        "### Compiling the CNN"
      ]
    },
    {
      "cell_type": "code",
      "execution_count": null,
      "metadata": {
        "id": "NALksrNQpUlJ"
      },
      "outputs": [],
      "source": [
        "cnn.compile(optimizer = 'adam', loss = 'binary_crossentropy', metrics = ['accuracy'])"
      ]
    },
    {
      "cell_type": "markdown",
      "metadata": {
        "id": "ehS-v3MIpX2h"
      },
      "source": [
        "### Training the CNN on the Training set and evaluating it on the Test set"
      ]
    },
    {
      "cell_type": "code",
      "execution_count": null,
      "metadata": {
        "id": "XUj1W4PJptta",
        "colab": {
          "base_uri": "https://localhost:8080/"
        },
        "outputId": "137516a9-92a6-4062-80f5-735411328705"
      },
      "outputs": [
        {
          "output_type": "stream",
          "name": "stdout",
          "text": [
            "Epoch 1/25\n",
            "229/229 [==============================] - 2015s 9s/step - loss: 0.6505 - accuracy: 0.6102 - val_loss: 0.6964 - val_accuracy: 0.5980\n",
            "Epoch 2/25\n",
            "229/229 [==============================] - 79s 346ms/step - loss: 0.5841 - accuracy: 0.6906 - val_loss: 0.5540 - val_accuracy: 0.7170\n",
            "Epoch 3/25\n",
            "229/229 [==============================] - 78s 342ms/step - loss: 0.5403 - accuracy: 0.7274 - val_loss: 0.5135 - val_accuracy: 0.7470\n",
            "Epoch 4/25\n",
            "229/229 [==============================] - 78s 339ms/step - loss: 0.5070 - accuracy: 0.7508 - val_loss: 0.5044 - val_accuracy: 0.7465\n",
            "Epoch 5/25\n",
            "229/229 [==============================] - 78s 342ms/step - loss: 0.4859 - accuracy: 0.7709 - val_loss: 0.4744 - val_accuracy: 0.7770\n",
            "Epoch 6/25\n",
            "229/229 [==============================] - 78s 341ms/step - loss: 0.4716 - accuracy: 0.7728 - val_loss: 0.5036 - val_accuracy: 0.7470\n",
            "Epoch 7/25\n",
            "229/229 [==============================] - 79s 343ms/step - loss: 0.4494 - accuracy: 0.7837 - val_loss: 0.4664 - val_accuracy: 0.7895\n",
            "Epoch 8/25\n",
            "229/229 [==============================] - 79s 343ms/step - loss: 0.4369 - accuracy: 0.7921 - val_loss: 0.4685 - val_accuracy: 0.7765\n",
            "Epoch 9/25\n",
            "229/229 [==============================] - 78s 342ms/step - loss: 0.4206 - accuracy: 0.8034 - val_loss: 0.4594 - val_accuracy: 0.7950\n",
            "Epoch 10/25\n",
            "229/229 [==============================] - 78s 341ms/step - loss: 0.4211 - accuracy: 0.8036 - val_loss: 0.5454 - val_accuracy: 0.7415\n",
            "Epoch 11/25\n",
            "229/229 [==============================] - 78s 341ms/step - loss: 0.3999 - accuracy: 0.8152 - val_loss: 0.4612 - val_accuracy: 0.7975\n",
            "Epoch 12/25\n",
            "229/229 [==============================] - 79s 346ms/step - loss: 0.3842 - accuracy: 0.8267 - val_loss: 0.4395 - val_accuracy: 0.8105\n",
            "Epoch 13/25\n",
            "229/229 [==============================] - 78s 341ms/step - loss: 0.3719 - accuracy: 0.8279 - val_loss: 0.4424 - val_accuracy: 0.8095\n",
            "Epoch 14/25\n",
            "229/229 [==============================] - 78s 342ms/step - loss: 0.3534 - accuracy: 0.8399 - val_loss: 0.4544 - val_accuracy: 0.8020\n",
            "Epoch 15/25\n",
            "229/229 [==============================] - 78s 341ms/step - loss: 0.3430 - accuracy: 0.8460 - val_loss: 0.4572 - val_accuracy: 0.8025\n",
            "Epoch 16/25\n",
            "229/229 [==============================] - 78s 340ms/step - loss: 0.3378 - accuracy: 0.8504 - val_loss: 0.4476 - val_accuracy: 0.8195\n",
            "Epoch 17/25\n",
            "229/229 [==============================] - 79s 343ms/step - loss: 0.3166 - accuracy: 0.8600 - val_loss: 0.4515 - val_accuracy: 0.8165\n",
            "Epoch 18/25\n",
            "229/229 [==============================] - 79s 345ms/step - loss: 0.3063 - accuracy: 0.8646 - val_loss: 0.4707 - val_accuracy: 0.8015\n",
            "Epoch 19/25\n",
            "229/229 [==============================] - 79s 344ms/step - loss: 0.2806 - accuracy: 0.8779 - val_loss: 0.4993 - val_accuracy: 0.8110\n",
            "Epoch 20/25\n",
            "229/229 [==============================] - 79s 343ms/step - loss: 0.2572 - accuracy: 0.8905 - val_loss: 0.4801 - val_accuracy: 0.8035\n",
            "Epoch 21/25\n",
            "229/229 [==============================] - 80s 347ms/step - loss: 0.2563 - accuracy: 0.8911 - val_loss: 0.5292 - val_accuracy: 0.8065\n",
            "Epoch 22/25\n",
            "229/229 [==============================] - 79s 345ms/step - loss: 0.2494 - accuracy: 0.8946 - val_loss: 0.4750 - val_accuracy: 0.8170\n",
            "Epoch 23/25\n",
            "229/229 [==============================] - 79s 346ms/step - loss: 0.2256 - accuracy: 0.9078 - val_loss: 0.5193 - val_accuracy: 0.8060\n",
            "Epoch 24/25\n",
            "229/229 [==============================] - 79s 344ms/step - loss: 0.2148 - accuracy: 0.9112 - val_loss: 0.5230 - val_accuracy: 0.7970\n",
            "Epoch 25/25\n",
            "229/229 [==============================] - 79s 344ms/step - loss: 0.2003 - accuracy: 0.9184 - val_loss: 0.4963 - val_accuracy: 0.8075\n"
          ]
        },
        {
          "output_type": "execute_result",
          "data": {
            "text/plain": [
              "<keras.callbacks.History at 0x7f94ca86b7d0>"
            ]
          },
          "metadata": {},
          "execution_count": 27
        }
      ],
      "source": [
        "cnn.fit(x = training_set, validation_data = test_set, epochs = 25)"
      ]
    },
    {
      "cell_type": "markdown",
      "metadata": {
        "id": "U3PZasO0006Z"
      },
      "source": [
        "## Part 4 - Making a single prediction"
      ]
    },
    {
      "cell_type": "code",
      "execution_count": null,
      "metadata": {
        "id": "gsSiWEJY1BPB",
        "colab": {
          "base_uri": "https://localhost:8080/",
          "height": 235
        },
        "outputId": "d0164001-0bb1-4f76-a573-ce5d3682015c"
      },
      "outputs": [
        {
          "output_type": "error",
          "ename": "NameError",
          "evalue": "ignored",
          "traceback": [
            "\u001b[0;31m---------------------------------------------------------------------------\u001b[0m",
            "\u001b[0;31mNameError\u001b[0m                                 Traceback (most recent call last)",
            "\u001b[0;32m<ipython-input-1-83e79dc4dc66>\u001b[0m in \u001b[0;36m<module>\u001b[0;34m()\u001b[0m\n\u001b[1;32m      7\u001b[0m \u001b[0mtest_image\u001b[0m \u001b[0;34m=\u001b[0m \u001b[0mimage\u001b[0m\u001b[0;34m.\u001b[0m\u001b[0mimg_to_array\u001b[0m\u001b[0;34m(\u001b[0m\u001b[0mtest_image\u001b[0m\u001b[0;34m)\u001b[0m\u001b[0;34m\u001b[0m\u001b[0;34m\u001b[0m\u001b[0m\n\u001b[1;32m      8\u001b[0m \u001b[0mtest_image\u001b[0m \u001b[0;34m=\u001b[0m \u001b[0mnp\u001b[0m\u001b[0;34m.\u001b[0m\u001b[0mexpand_dims\u001b[0m\u001b[0;34m(\u001b[0m\u001b[0mtest_image\u001b[0m\u001b[0;34m,\u001b[0m \u001b[0maxis\u001b[0m \u001b[0;34m=\u001b[0m \u001b[0;36m0\u001b[0m\u001b[0;34m)\u001b[0m\u001b[0;34m\u001b[0m\u001b[0;34m\u001b[0m\u001b[0m\n\u001b[0;32m----> 9\u001b[0;31m \u001b[0mresult\u001b[0m \u001b[0;34m=\u001b[0m \u001b[0mcnn\u001b[0m\u001b[0;34m.\u001b[0m\u001b[0mpredict\u001b[0m\u001b[0;34m(\u001b[0m\u001b[0mtest_image\u001b[0m\u001b[0;34m)\u001b[0m\u001b[0;34m\u001b[0m\u001b[0;34m\u001b[0m\u001b[0m\n\u001b[0m\u001b[1;32m     10\u001b[0m \u001b[0mtraining_set\u001b[0m\u001b[0;34m.\u001b[0m\u001b[0mclass_indices\u001b[0m\u001b[0;34m\u001b[0m\u001b[0;34m\u001b[0m\u001b[0m\n\u001b[1;32m     11\u001b[0m \u001b[0;32mif\u001b[0m \u001b[0mresult\u001b[0m\u001b[0;34m[\u001b[0m\u001b[0;36m0\u001b[0m\u001b[0;34m]\u001b[0m\u001b[0;34m[\u001b[0m\u001b[0;36m0\u001b[0m\u001b[0;34m]\u001b[0m \u001b[0;34m==\u001b[0m \u001b[0;36m1\u001b[0m\u001b[0;34m:\u001b[0m\u001b[0;34m\u001b[0m\u001b[0;34m\u001b[0m\u001b[0m\n",
            "\u001b[0;31mNameError\u001b[0m: name 'cnn' is not defined"
          ]
        }
      ],
      "source": [
        "import numpy as np\n",
        "from keras.preprocessing import image\n",
        "\n",
        "#test_image = train_datagen.flow_from_directory('/content/drive/MyDrive/Images/single_prediction',target_size = (64, 64))\n",
        "\n",
        "test_image = image.load_img('/content/drive/MyDrive/Images/single_prediction/dog 2.jpg', target_size = (64, 64))\n",
        "test_image = image.img_to_array(test_image)\n",
        "test_image = np.expand_dims(test_image, axis = 0)\n",
        "result = cnn.predict(test_image)\n",
        "training_set.class_indices\n",
        "if result[0][0] == 1:\n",
        "  prediction = 'dog'\n",
        "else:\n",
        "  prediction = 'cat'"
      ]
    },
    {
      "cell_type": "code",
      "execution_count": null,
      "metadata": {
        "id": "ED9KB3I54c1i",
        "colab": {
          "base_uri": "https://localhost:8080/"
        },
        "outputId": "79ace043-1e9e-428b-a5cf-34ff6f40e30d"
      },
      "outputs": [
        {
          "output_type": "stream",
          "name": "stdout",
          "text": [
            "dog\n"
          ]
        }
      ],
      "source": [
        "print(prediction)"
      ]
    }
  ],
  "metadata": {
    "colab": {
      "collapsed_sections": [],
      "name": "convolutional_neural_network.ipynb",
      "provenance": []
    },
    "kernelspec": {
      "display_name": "Python 3 (ipykernel)",
      "language": "python",
      "name": "python3"
    },
    "language_info": {
      "codemirror_mode": {
        "name": "ipython",
        "version": 3
      },
      "file_extension": ".py",
      "mimetype": "text/x-python",
      "name": "python",
      "nbconvert_exporter": "python",
      "pygments_lexer": "ipython3",
      "version": "3.9.7"
    }
  },
  "nbformat": 4,
  "nbformat_minor": 0
}